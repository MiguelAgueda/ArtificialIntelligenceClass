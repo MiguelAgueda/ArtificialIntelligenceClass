{
 "cells": [
  {
   "cell_type": "markdown",
   "metadata": {},
   "source": [
    "# 0. Cleaning the Data\n",
    "\n",
    "- Remove all punctuation.\n",
    "\n",
    "- Remove all non-alphanumeric characters.\n",
    "\n",
    "- Convert all symbols to lowercase format. "
   ]
  },
  {
   "cell_type": "code",
   "execution_count": 15,
   "metadata": {},
   "outputs": [],
   "source": [
    "from math import log\n",
    "\n",
    "\n",
    "class Token:\n",
    "\n",
    "    def __init__(self, word, f0):\n",
    "        self.token = word\n",
    "        self.a_count = f0\n",
    "        self.b_count = f0\n",
    "    \n",
    "def data_cleaner(path: str) -> str: # author Walter and Miguel\n",
    "    \n",
    "    text = \"\" # define empty text variable\n",
    "    with open(path, newline='\\n') as file: # open text file and read by line\n",
    "        temp_text = file.readlines() # store read lines in temporary string\n",
    "\n",
    "    linewordlist = [] # empty list for lines, each line in this list is also a list of words\n",
    "    for lineno, linedat in enumerate(temp_text): \n",
    "        linedat = linedat.strip('''!()-[]{};:'\"\\, <>./?@#$%^&*_~''') # take out all special trailing characters\n",
    "        linedat = linedat.lower() # convert all to lowercase\n",
    "        linewordlist.append(linedat.split())\n",
    "    for line in linewordlist: # going through each line in the file\n",
    "        for word in line: # and each word in each line\n",
    "            word = word.strip(\"\\\"!()-[]{};:', <>./?@#$%^&*_~\") # another strip pass to ensure all characters and whitespace are gone\n",
    "            word = word.replace(\"'\", \"\")\n",
    "            text += word + \"\\n\" # append word to the cleaned text string, with a newline\n",
    "    # write text data to file\n",
    "    file = open(\"cleaned.txt\", \"w\")\n",
    "    file.write(text)\n",
    "    file.close()\n",
    "    return text.split(\"\\n\")\n",
    "\n",
    "def wordcount_dict(filepath, fileclass, tokendict, f0=1): # author Walter\n",
    "#     tokendict = {} # create new empty dictionary\n",
    "    with open(filepath) as file: # open file\n",
    "        for line in file: # iterate through all lines (words) in the file\n",
    "            line = line.strip('\\n') # remove the trailing newlines\n",
    "            if line not in tokendict: # check to create a new dictionary entry if token not already in dict\n",
    "                token = Token(line, f0)  # Since no token exists, create a new token as entry\n",
    "                tokendict.update({line: token}) \n",
    "                                  \n",
    "            # elif line in tokendict: # otherwise, if it does exist\n",
    "            #     count = tokendict.get(line) # take the existing count\n",
    "            #     count += 1 # iterate by 1\n",
    "            #     tokendict.update({line : count}) # update in the dictionary\n",
    "           \n",
    "            if fileclass == 'a':  # If the file belongs to class `a`\n",
    "                token = tokendict[line]\n",
    "                token.a_count += 1  # Update count for `a`, `a_count`\n",
    "                tokendict[line] = token  # Update tokendict.\n",
    "            \n",
    "            elif fileclass == 'b':  # If file belongs to class `b`\n",
    "                token = tokendict[line]\n",
    "                token.b_count += 1  # Update count for `b`, `b_count`\n",
    "                tokendict[line] = token  # Update tokendict.\n",
    "    # print(tokendict) # print out the dictionary\n",
    "    return tokendict"
   ]
  },
  {
   "cell_type": "code",
   "execution_count": 28,
   "metadata": {},
   "outputs": [],
   "source": [
    "class Classifier:\n",
    "    def __init__(self):\n",
    "        self.A = 0\n",
    "        self.B = 0\n",
    "        \n",
    "    def classify(self, apath, bpath, f0, dpath, tokens=dict()):\n",
    "        if f0 < 1:\n",
    "            return -228\n",
    "        \n",
    "#         sum_a = 0\n",
    "#         sum_b = 0\n",
    "        tokens = wordcount_dict(apath, 'a', tokens, f0)\n",
    "        tokens = wordcount_dict(bpath, 'b', tokens, f0)\n",
    "        data_words = data_cleaner(dpath)\n",
    "        for word in data_words:\n",
    "            if word in tokens.keys():\n",
    "                self.A += log(tokens[word].a_count)\n",
    "                self.B += log(tokens[word].b_count)\n",
    "        \n",
    "        if self.A > self.B:\n",
    "            return 'a'\n",
    "        elif self.A < self.B:\n",
    "            return 'b'\n",
    "        elif self.A == self.B:\n",
    "            return F\"ab, {self.A}\""
   ]
  },
  {
   "cell_type": "code",
   "execution_count": 29,
   "metadata": {},
   "outputs": [
    {
     "name": "stdout",
     "output_type": "stream",
     "text": [
      "Phase: 3\n",
      "Path to text file of Class A Docs: \n",
      "Path to text file of Class B Docs: \n",
      "Please enter a positive non-zero number for f_0: \n",
      "Path to text file of document to classify: \n",
      "A_PATH: data/A/Combined.txt\n",
      "B_PATH: data/B/Combined.txt\n",
      "D_PATH: data/test_speeches/obama/a223.txt\n",
      "a\n"
     ]
    }
   ],
   "source": [
    "phase = input(\"Phase: \")\n",
    "if phase == '1':\n",
    "    path = input(\"Path to data file: \")\n",
    "    text = data_cleaner(path)\n",
    "    print(text)\n",
    "if phase == '2':\n",
    "    path = input(\"Path to cleaned text file: \")\n",
    "    tokendict = wordcount_dict(path, 'a')\n",
    "if phase == '3':\n",
    "    classifier = Classifier()\n",
    "    path_a = input(\"Path to text file of Class A Docs: \") or \"data/A/Combined.txt\"\n",
    "    path_b = input(\"Path to text file of Class B Docs: \") or \"data/B/Combined.txt\"\n",
    "    f_0 = int(input(\"Please enter a positive non-zero number for f_0: \") or '1')\n",
    "    path_d = input(\"Path to text file of document to classify: \") or \"data/test_speeches/obama/a223.txt\"\n",
    "    dictionary = {}\n",
    "    print(F\"A_PATH: {path_a}\\nB_PATH: {path_b}\\nD_PATH: {path_d}\")\n",
    "    document_class = classifier.classify(path_a, path_b, f_0, path_d, dictionary) \n",
    "    print(document_class)\n",
    "\n",
    "else:\n",
    "    print(F\"Sorry, phase {phase} has not yet been implemented\")\n",
    "\n"
   ]
  },
  {
   "cell_type": "code",
   "execution_count": 23,
   "metadata": {},
   "outputs": [
    {
     "name": "stdout",
     "output_type": "stream",
     "text": [
      "None\n"
     ]
    }
   ],
   "source": [
    "print(document_class)"
   ]
  },
  {
   "cell_type": "code",
   "execution_count": null,
   "metadata": {},
   "outputs": [],
   "source": []
  }
 ],
 "metadata": {
  "kernelspec": {
   "display_name": "Python 3",
   "language": "python",
   "name": "python3"
  },
  "language_info": {
   "codemirror_mode": {
    "name": "ipython",
    "version": 3
   },
   "file_extension": ".py",
   "mimetype": "text/x-python",
   "name": "python",
   "nbconvert_exporter": "python",
   "pygments_lexer": "ipython3",
   "version": "3.8.5"
  },
  "metadata": {
   "interpreter": {
    "hash": "e7370f93d1d0cde622a1f8e1c04877d8463912d04d973331ad4851f04de6915a"
   }
  }
 },
 "nbformat": 4,
 "nbformat_minor": 2
}
