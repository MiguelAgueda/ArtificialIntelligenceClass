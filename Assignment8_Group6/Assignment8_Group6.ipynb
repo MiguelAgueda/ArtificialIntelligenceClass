{
 "cells": [
  {
   "cell_type": "markdown",
   "metadata": {},
   "source": [
    "# 0. Cleaning the Data\n",
    "\n",
    "- Remove all punctuation.\n",
    "\n",
    "- Remove all non-alphanumeric characters.\n",
    "\n",
    "- Convert all symbols to lowercase format. "
   ]
  },
  {
   "cell_type": "code",
   "execution_count": 11,
   "metadata": {},
   "outputs": [],
   "source": [
    "def data_cleaner(path: str) -> str: # author Walter and Miguel\n",
    "    \n",
    "    text = \"\" # define empty text variable\n",
    "    with open(path, newline='\\n') as file: # open text file and read by line\n",
    "        temp_text = file.readlines() # store read lines in temporary string\n",
    "\n",
    "    linewordlist = [] # empty list for lines, each line in this list is also a list of words\n",
    "    for lineno, linedat in enumerate(temp_text): \n",
    "        linedat = linedat.strip('''!()-[]{};:'\"\\, <>./?@#$%^&*_~''') # take out all special trailing characters\n",
    "        linedat = linedat.lower() # convert all to lowercase\n",
    "        linewordlist.append(linedat.split())\n",
    "    for line in linewordlist: # going through each line in the file\n",
    "        for word in line: # and each word in each line\n",
    "            word = word.strip(\"\\\"!()-[]{};:', <>./?@#$%^&*_~\") # another strip pass to ensure all characters and whitespace are gone\n",
    "            word = word.replace(\"'\", \"\")\n",
    "            text += word + \"\\n\" # append word to the cleaned text string, with a newline\n",
    "    # write text data to file\n",
    "    file = open(\"cleaned.txt\", \"w\")\n",
    "    file.write(text)\n",
    "    file.close()\n",
    "            \n",
    "    return text\n"
   ]
  },
  {
   "cell_type": "code",
   "execution_count": 14,
   "metadata": {},
   "outputs": [
    {
     "output_type": "stream",
     "name": "stdout",
     "text": [
      "trump\nresponded\nto\nthe\nboards\nruling\nin\na\nstatement\nwhat\nfacebook\ntwitter\nand\ngoogle\nhave\ndone\nis\na\ntotal\ndisgrace\nand\nan\nembarrassment\nto\nour\ncountry\nfree\nspeech\nhas\nbeen\ntaken\naway\nfrom\nthe\npresident\nof\nthe\nunited\nstates\nbecause\nthe\nradical\nleft\nlunatics\nare\nafraid\nof\nthe\ntruth\nbut\nthe\ntruth\nwill\ncome\nout\nanyway\nbigger\nand\nstronger\nthan\never\nbefore\nthe\npeople\nof\nour\ncountry\nwill\nnot\nstand\nfor\nit\nthese\ncorrupt\nsocial\nmedia\ncompanies\nmust\npay\na\npolitical\nprice\nand\nmust\nnever\nagain\nbe\nallowed\nto\ndestroy\nand\ndecimate\nour\nelectoral\nprocess\nin\na\nseparate\nstatement\nreleased\non\nwednesday\ntrump\nagain\nbaselessly\nclaimed\nthere\nwas\nfraud\nin\nthe\n2020\nelection\nwithin\nsix\nmonths\nfacebook\nmust\nreexamine\nthe\narbitrary\npenalty\nit\nimposed\non\njanuary\n7\nand\ndecide\nthe\nappropriate\npenalty\nthe\nboard\nsaid\nwednesday\nthis\npenalty\nmust\nbe\nbased\non\nthe\ngravity\nof\nthe\nviolation\nand\nthe\nprospect\nof\nfuture\nharm\nit\nmust\nalso\nbe\nconsistent\nwith\nfacebooks\nrules\nfor\nsevere\nviolations\nwhich\nmust\nin\nturn\nbe\nclear\nnecessary\nand\nproportionate\nit\nis\nnot\npermissible\nfor\nfacebook\nto\nkeep\na\nuser\noff\nthe\nplatform\nfor\nan\nundefined\nperiod\nwith\nno\ncriteria\nfor\nwhen\nor\nwhether\nthe\naccount\nwill\nbe\nrestored\nthe\nboard\nsaid\nthe\nboard\nclaimed\nthat\nfacebook\ngave\ntrumps\naccount\na\nvague\nstandardless\npenalty\nand\nthen\ntried\nto\navoid\nits\nresponsibilities\nby\nsending\nthe\ncase\nto\nthe\nboard\nto\nresolve\nif\nfacebook\ndecides\nto\nrestore\nmr\ntrumps\naccounts\nthe\ncompany\nshould\napply\nits\nrules\nto\nthat\ndecision\nincluding\nany\nchanges\nmade\nin\nresponse\nto\nthe\nboards\npolicy\nrecommendations\nbelow\nthe\nboards\nruling\nsaid\nin\nthis\nscenario\nfacebook\nmust\naddress\nany\nfurther\nviolations\npromptly\nand\nin\naccordance\nwith\nits\nestablished\ncontent\npolicies\nas\npart\nof\nthe\nboards\nexamination\ntrump\nwas\nallowed\nto\nprovide\na\nstatement\nwhich\nwas\nsubmitted\nby\nthe\namerican\ncenter\nfor\nlaw\nand\njustice\non\nhis\nbehalf\nthe\nstatement\ndenies\nthat\ntrumps\ncomments\nlead\nto\nthe\ncapitol\nsiege\nit\nis\nstunningly\nclear\nthat\nin\nhis\nspeech\nthere\nwas\nno\ncall\nto\ninsurrection\nno\nincitement\nto\nviolence\nand\nno\nthreat\nto\npublic\nsafety\nin\nany\nmanner\nand\nthat\nthere\nis\na\ntotal\nabsence\nof\nany\nserious\nlinkage\nbetween\nthe\ntrump\nspeech\nand\nthe\ncapitol\nbuilding\nincursion\nthe\nstatement\nalso\nclaimed\nthat\nall\ngenuine\ntrump\npolitical\nsupporters\nwere\nlaw-abiding\nand\nthat\nthe\nincursion\nwas\ncertainly\ninfluenced\nand\nmost\nprobably\nignited\nby\noutside\nforces\nin\nresponse\nto\nthe\nboards\nruling\nfacebook\nsaid\nwe\nwill\nnow\nconsider\nthe\nboards\ndecision\nand\ndetermine\nan\naction\nthat\nis\nclear\nand\nproportionate\nin\nthe\nmeantime\nmr\ntrumps\naccounts\nremain\nsuspended\nthe\nboard\nalso\nmade\na\nnumber\nof\nrecommendations\non\nhow\nwe\nshould\nimprove\nour\npolicies\nfacebook\nsaid\nwhile\nthese\nrecommendations\nare\nnot\nbinding\nwe\nactively\nsought\nthe\nboards\nviews\non\nour\npolicies\naround\npolitical\nfigures\nand\nwill\ncarefully\nreview\nits\nrecommendations\ntrumps\nsupporters\nand\ncritics\nare\nreacting\nto\nthe\nboards\ndecision\nhouse\nminority\nleader\nkevin\nmccarthy\ntweeted\nif\nthey\ncan\nban\npresident\ntrump\nall\nconservative\nvoices\ncould\nbe\nnext\nsen\nted\ncruz\nr-texas\ncalled\nthe\nboards\nruling\ndisgraceful\nfor\nevery\nliberal\ncelebrating\ntrumps\nsocial\nmedia\nban\nif\nthe\nbig\ntech\noligarchs\ncan\nmuzzle\nthe\nformer\npresident\nwhats\nto\nstop\nthem\nfrom\nsilencing\nyou\ncruz\ntweeted\nrep\nadam\nschiff\nd-calif\nresponded\ntheres\nno\nconstitutional\nprotection\nfor\nusing\nsocial\nmedia\nto\nincite\nan\ninsurrection\ntrump\nis\nwilling\nto\ndo\nanything\nfor\nhimself\nno\nmatter\nthe\ndanger\nto\nour\ncountry\nhis\nbig\nlies\nhave\ncost\namerica\ndearly\nand\nuntil\nhe\nstops\nfacebook\nmust\nban\nhim\nwhich\nis\nto\nsay\nforever\ntrump\nwas\npermanently\nbanned\nfrom\ntwitter\non\njan\n8\ntrump\ntold\nabc\nnews\nrecently\nthat\nthe\nwritten\nstatements\nhes\nbeen\nissuing\nduring\nhis\nsocial\nmedia\nban\nare\nso\nmuch\nmore\nelegant\nthan\ntwitter\n\n"
     ]
    }
   ],
   "source": [
    "phase = input(\"Phase: \")\n",
    "if phase == '1':\n",
    "    path = input(\"Path to data file: \")\n",
    "    text = data_cleaner(path)\n",
    "    print(text)\n",
    "\n",
    "else:\n",
    "    print(F\"Sorry, phase {phase} has not yet been implemented\")\n",
    "\n"
   ]
  },
  {
   "cell_type": "code",
   "execution_count": null,
   "metadata": {},
   "outputs": [],
   "source": []
  }
 ],
 "metadata": {
  "kernelspec": {
   "name": "python385jvsc74a57bd0e7370f93d1d0cde622a1f8e1c04877d8463912d04d973331ad4851f04de6915a",
   "display_name": "Python 3.8.5 64-bit"
  },
  "language_info": {
   "codemirror_mode": {
    "name": "ipython",
    "version": 3
   },
   "file_extension": ".py",
   "mimetype": "text/x-python",
   "name": "python",
   "nbconvert_exporter": "python",
   "pygments_lexer": "ipython3",
   "version": "3.8.5"
  },
  "metadata": {
   "interpreter": {
    "hash": "e7370f93d1d0cde622a1f8e1c04877d8463912d04d973331ad4851f04de6915a"
   }
  }
 },
 "nbformat": 4,
 "nbformat_minor": 2
}