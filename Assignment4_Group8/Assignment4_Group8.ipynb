{
 "cells": [
  {
   "cell_type": "markdown",
   "metadata": {},
   "source": [
    "# 0. Import required packages."
   ]
  },
  {
   "cell_type": "code",
   "execution_count": 1,
   "metadata": {
    "collapsed": true
   },
   "outputs": [],
   "source": [
    "import copy\n",
    "import time"
   ]
  },
  {
   "cell_type": "markdown",
   "metadata": {},
   "source": [
    "# 1. Define a `Game` Class for containing the Tic-Tac-Toe game."
   ]
  },
  {
   "cell_type": "code",
   "execution_count": 2,
   "metadata": {},
   "outputs": [],
   "source": [
    "class Game(object):\n",
    "    \"\"\"A tic-tac-toe game.\"\"\"\n",
    "\n",
    "    def __init__(self, grid):\n",
    "        \"\"\"Instances differ by their grid marks.\"\"\"\n",
    "        self.grid = copy.deepcopy(grid) # No aliasing!\n",
    "\n",
    "    def display(self):\n",
    "        \"\"\"Print the game board.\"\"\"\n",
    "        for row in self.grid:\n",
    "            print(row)\n",
    "\n",
    "    def moves(self):\n",
    "        \"\"\"Return a list of possible moves given the current marks.\n",
    "        \n",
    "        Parameters\n",
    "        ----------\n",
    "            None\n",
    "        \n",
    "        Returns\n",
    "        -------\n",
    "            possible_moves: List of Tuples containing (row, column) of available spaces on the grid.\n",
    "        \n",
    "        Author: Miguel Agueda-Cabral\n",
    "        \"\"\"\n",
    "        \n",
    "        possible_moves = []\n",
    "        for row_index, row in enumerate(self.grid):\n",
    "            for column_index, value in enumerate(row):\n",
    "                if value == '-':\n",
    "                    position = (row_index, column_index)\n",
    "                    possible_moves.append(position)\n",
    "        \n",
    "        return possible_moves\n",
    "\n",
    "    def neighbor(self, move, mark):\n",
    "        \"\"\"Return a Game instance like this one but with one move made.\n",
    "        \n",
    "        Parameters\n",
    "        ----------\n",
    "            move: Tuple containing (row, column) indices of move to be made.\n",
    "            mark: String identity of player ('X', 'O'). \n",
    "        \n",
    "        Returns\n",
    "        -------\n",
    "            neighbor_game: A copy of `self` with `move` applied.\n",
    "        \n",
    "        Author: Miguel Agueda-Cabral\n",
    "        \"\"\"\n",
    "        \n",
    "        neighbor_game = Game(self.grid)\n",
    "        (row_idx, col_idx) = move\n",
    "        neighbor_game.grid[row_idx][col_idx] = mark\n",
    "        \n",
    "        return neighbor_game\n",
    "\n",
    "    def utility(self):\n",
    "        \"\"\"Return the minimax utility value of this game:\n",
    "        1 = X win, -1 = O win, 0 = tie, None = not over yet.\"\"\"\n",
    "        # YOU FILL THIS IN\n",
    "        # for utility here, check the code from this link\n",
    "        #http://www.sarathlakshman.com/2011/04/29/writing-a-tic-tac\n",
    "        #to calculate the utility of this current board."
   ]
  },
  {
   "cell_type": "markdown",
   "metadata": {},
   "source": [
    "   # 2. Define an `Agent` Class which can manipulate and solve an instance of `Game`."
   ]
  },
  {
   "cell_type": "code",
   "execution_count": 3,
   "metadata": {},
   "outputs": [],
   "source": [
    "class Agent(object):\n",
    "    \"\"\"Knows how to play tic-tac-toe.\"\"\"\n",
    "\n",
    "    def __init__(self, mark):\n",
    "        \"\"\"Agents use either X or O.\"\"\"\n",
    "        self.mark = mark\n",
    "\n",
    "    def maxvalue(self, game, opponent):\n",
    "        \"\"\"Compute the highest utility this game can have.\"\"\"\n",
    "        # YOU FILL THIS IN\n",
    "\n",
    "    def minvalue(self, game, opponent):\n",
    "        \"\"\"Compute the lowest utility this game can have.\"\"\"\n",
    "        # YOU FILL THIS IN\n",
    "\n"
   ]
  },
  {
   "cell_type": "code",
   "execution_count": 4,
   "metadata": {},
   "outputs": [
    {
     "name": "stdout",
     "output_type": "stream",
     "text": [
      "['-', '-', '-']\n",
      "['-', '-', '-']\n",
      "['-', '-', '-']\n"
     ]
    },
    {
     "ename": "TypeError",
     "evalue": "cannot unpack non-iterable NoneType object",
     "output_type": "error",
     "traceback": [
      "\u001b[1;31m---------------------------------------------------------------------------\u001b[0m",
      "\u001b[1;31mTypeError\u001b[0m                                 Traceback (most recent call last)",
      "\u001b[1;32m<ipython-input-4-56c53a104559>\u001b[0m in \u001b[0;36m<module>\u001b[1;34m\u001b[0m\n\u001b[0;32m     27\u001b[0m \u001b[1;33m\u001b[0m\u001b[0m\n\u001b[0;32m     28\u001b[0m \u001b[1;32mif\u001b[0m \u001b[0m__name__\u001b[0m \u001b[1;33m==\u001b[0m \u001b[1;34m'__main__'\u001b[0m\u001b[1;33m:\u001b[0m\u001b[1;33m\u001b[0m\u001b[1;33m\u001b[0m\u001b[0m\n\u001b[1;32m---> 29\u001b[1;33m     \u001b[0mmain\u001b[0m\u001b[1;33m(\u001b[0m\u001b[1;33m)\u001b[0m\u001b[1;33m\u001b[0m\u001b[1;33m\u001b[0m\u001b[0m\n\u001b[0m",
      "\u001b[1;32m<ipython-input-4-56c53a104559>\u001b[0m in \u001b[0;36mmain\u001b[1;34m()\u001b[0m\n\u001b[0;32m     10\u001b[0m     \u001b[1;32mwhile\u001b[0m \u001b[1;32mTrue\u001b[0m\u001b[1;33m:\u001b[0m\u001b[1;33m\u001b[0m\u001b[1;33m\u001b[0m\u001b[0m\n\u001b[0;32m     11\u001b[0m \u001b[1;33m\u001b[0m\u001b[0m\n\u001b[1;32m---> 12\u001b[1;33m         \u001b[1;33m(\u001b[0m\u001b[0mvalue\u001b[0m\u001b[1;33m,\u001b[0m \u001b[0mmove\u001b[0m\u001b[1;33m)\u001b[0m \u001b[1;33m=\u001b[0m \u001b[0mmaxplayer\u001b[0m\u001b[1;33m.\u001b[0m\u001b[0mmaxvalue\u001b[0m\u001b[1;33m(\u001b[0m\u001b[0mgame\u001b[0m\u001b[1;33m,\u001b[0m \u001b[0mminplayer\u001b[0m\u001b[1;33m)\u001b[0m\u001b[1;33m\u001b[0m\u001b[1;33m\u001b[0m\u001b[0m\n\u001b[0m\u001b[0;32m     13\u001b[0m         \u001b[0mgame\u001b[0m \u001b[1;33m=\u001b[0m \u001b[0mgame\u001b[0m\u001b[1;33m.\u001b[0m\u001b[0mneighbor\u001b[0m\u001b[1;33m(\u001b[0m\u001b[0mmove\u001b[0m\u001b[1;33m,\u001b[0m \u001b[0mmaxplayer\u001b[0m\u001b[1;33m.\u001b[0m\u001b[0mmark\u001b[0m\u001b[1;33m)\u001b[0m\u001b[1;33m\u001b[0m\u001b[1;33m\u001b[0m\u001b[0m\n\u001b[0;32m     14\u001b[0m         \u001b[0mtime\u001b[0m\u001b[1;33m.\u001b[0m\u001b[0msleep\u001b[0m\u001b[1;33m(\u001b[0m\u001b[1;36m1\u001b[0m\u001b[1;33m)\u001b[0m\u001b[1;33m\u001b[0m\u001b[1;33m\u001b[0m\u001b[0m\n",
      "\u001b[1;31mTypeError\u001b[0m: cannot unpack non-iterable NoneType object"
     ]
    }
   ],
   "source": [
    "def main():\n",
    "    \"\"\"Create a game and have two agents play it.\"\"\"\n",
    "\n",
    "    game = Game([['-','-','-'], ['-','-','-'], ['-','-','-']])\n",
    "    game.display()\n",
    "\n",
    "    maxplayer = Agent('X')\n",
    "    minplayer = Agent('O')\n",
    "\n",
    "    while True:\n",
    "\n",
    "        (value, move) = maxplayer.maxvalue(game, minplayer)\n",
    "        game = game.neighbor(move, maxplayer.mark)\n",
    "        time.sleep(1)\n",
    "        game.display()\n",
    "        \n",
    "        if game.utility() is not None:\n",
    "            break\n",
    "        \n",
    "        (value, move) = minplayer.minvalue(game, maxplayer)\n",
    "        game = game.neighbor(move, minplayer.mark)\n",
    "        time.sleep(1)\n",
    "        game.display()\n",
    "        \n",
    "        if game.utility() is not None:\n",
    "            break\n",
    "\n",
    "if __name__ == '__main__':\n",
    "    main()"
   ]
  },
  {
   "cell_type": "code",
   "execution_count": null,
   "metadata": {},
   "outputs": [],
   "source": []
  }
 ],
 "metadata": {
  "kernelspec": {
   "display_name": "Python 3",
   "language": "python",
   "name": "python3"
  },
  "language_info": {
   "codemirror_mode": {
    "name": "ipython",
    "version": 3
   },
   "file_extension": ".py",
   "mimetype": "text/x-python",
   "name": "python",
   "nbconvert_exporter": "python",
   "pygments_lexer": "ipython3",
   "version": "3.8.5"
  }
 },
 "nbformat": 4,
 "nbformat_minor": 4
}
